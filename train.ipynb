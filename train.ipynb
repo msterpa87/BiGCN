{
 "cells": [
  {
   "cell_type": "code",
   "execution_count": 2,
   "metadata": {},
   "outputs": [],
   "source": [
    "%load_ext autoreload\n",
    "%autoreload 2\n",
    "\n",
    "from dataloader import WICO\n",
    "import tensorflow as tf\n",
    "from model import Net\n",
    "from spektral.data import DisjointLoader\n",
    "from tensorflow import keras\n",
    "from tqdm import tqdm\n",
    "import numpy as np\n",
    "\n",
    "from tensorflow.keras.losses import CategoricalCrossentropy\n",
    "from tensorflow.keras.optimizers import Adam\n",
    "from tensorflow.keras.metrics import categorical_accuracy"
   ]
  },
  {
   "cell_type": "code",
   "execution_count": 3,
   "metadata": {},
   "outputs": [],
   "source": [
    "def train_step(model, loss_fn, optimizer, inputs, target):\n",
    "\n",
    "    with tf.GradientTape() as tape:\n",
    "        predictions, _, _ = model(inputs[:2])  # drop edge features from inputs\n",
    "        loss = loss_fn(target, predictions)\n",
    "    \n",
    "    gradients = tape.gradient(loss, model.trainable_variables)\n",
    "    optimizer.apply_gradients(zip(gradients, model.trainable_variables))\n",
    "    acc = tf.reduce_mean(categorical_accuracy(target, predictions))\n",
    "    return loss, acc"
   ]
  },
  {
   "cell_type": "code",
   "execution_count": 5,
   "metadata": {},
   "outputs": [],
   "source": [
    "def random_split(data, train_pct=0.75, train_epochs=5, seed=None):\n",
    "    \"\"\" returns two DataLoaders, resp. for train and test set \n",
    "        according to the input split percentage \"\"\"\n",
    "    if seed is not None:\n",
    "        np.random.default_rng(seed)\n",
    "\n",
    "    np.random.shuffle(data)\n",
    "    n = len(data)\n",
    "    train_size = int(n*train_pct)\n",
    "\n",
    "    train_set = data[:train_size]\n",
    "    test_set = data[train_size:]\n",
    "\n",
    "    train_loader = DisjointLoader(train_set, batch_size=1, epochs=train_epochs)\n",
    "    test_loader = DisjointLoader(test_set, batch_size=1, epochs=1)\n",
    "\n",
    "    return train_loader, test_loader"
   ]
  },
  {
   "cell_type": "code",
   "execution_count": 8,
   "metadata": {},
   "outputs": [],
   "source": [
    "def evaluate(train_loader, test_loader):\n",
    "    model = Net(num_classes=3)\n",
    "    loss_fn = CategoricalCrossentropy(from_logits=True)\n",
    "    optimizer = Adam(learning_rate=0.001)\n",
    "\n",
    "    epoch = step = 0\n",
    "    train_results = []\n",
    "\n",
    "    for inputs, target in tqdm(train_loader):\n",
    "        step += 1\n",
    "        loss, acc = train_step(model, loss_fn, optimizer, inputs, target)\n",
    "        train_results.append((loss, acc))\n",
    "\n",
    "        if step == train_loader.steps_per_epoch:\n",
    "            step = 0\n",
    "            epoch += 1\n",
    "            print(\"Ep. {} - Loss: {}. Acc: {}\".format(epoch, *np.mean(train_results, 0)))\n",
    "            train_results = []\n",
    "    \n",
    "    test_results = []\n",
    "\n",
    "    for inputs, target in test_loader:\n",
    "        predictions, _, _ = model(inputs[:2], training=False)\n",
    "        test_results.append(\n",
    "            (\n",
    "                loss_fn(target, predictions),\n",
    "                tf.reduce_mean(categorical_accuracy(target, predictions)),\n",
    "            )\n",
    "        )\n",
    "    \n",
    "    print(\"Done. Test loss: {}. Test acc: {}\".format(*np.mean(test_results, 0)))\n",
    "\n",
    "    return train_results, test_results"
   ]
  },
  {
   "cell_type": "code",
   "execution_count": 12,
   "metadata": {},
   "outputs": [
    {
     "name": "stdout",
     "output_type": "stream",
     "text": [
      "Experiment 1 of 5\n"
     ]
    },
    {
     "name": "stderr",
     "output_type": "stream",
     "text": [
      "2619it [14:45,  2.30it/s]"
     ]
    },
    {
     "name": "stdout",
     "output_type": "stream",
     "text": [
      "Ep. 1 - Loss: 0.8032735586166382. Acc: 0.7163039445877075\n"
     ]
    },
    {
     "name": "stderr",
     "output_type": "stream",
     "text": [
      "5238it [29:26,  2.35it/s]"
     ]
    },
    {
     "name": "stdout",
     "output_type": "stream",
     "text": [
      "Ep. 2 - Loss: 0.796207845211029. Acc: 0.7163039445877075\n"
     ]
    },
    {
     "name": "stderr",
     "output_type": "stream",
     "text": [
      "7857it [44:04,  2.97it/s]"
     ]
    },
    {
     "name": "stdout",
     "output_type": "stream",
     "text": [
      "Ep. 3 - Loss: 0.7961731553077698. Acc: 0.7163039445877075\n"
     ]
    },
    {
     "name": "stderr",
     "output_type": "stream",
     "text": [
      "\n"
     ]
    },
    {
     "name": "stdout",
     "output_type": "stream",
     "text": [
      "Done. Test loss: 0.8115666508674622. Test acc: 0.7033218741416931\n",
      "Experiment 2 of 5\n"
     ]
    },
    {
     "name": "stderr",
     "output_type": "stream",
     "text": [
      "2619it [15:51,  2.12it/s]"
     ]
    },
    {
     "name": "stdout",
     "output_type": "stream",
     "text": [
      "Ep. 1 - Loss: 0.8111956715583801. Acc: 0.7098128795623779\n"
     ]
    },
    {
     "name": "stderr",
     "output_type": "stream",
     "text": [
      "5238it [31:53,  2.22it/s]"
     ]
    },
    {
     "name": "stdout",
     "output_type": "stream",
     "text": [
      "Ep. 2 - Loss: 0.8055346608161926. Acc: 0.7105765342712402\n"
     ]
    },
    {
     "name": "stderr",
     "output_type": "stream",
     "text": [
      "7857it [47:55,  2.73it/s]"
     ]
    },
    {
     "name": "stdout",
     "output_type": "stream",
     "text": [
      "Ep. 3 - Loss: 0.8061708807945251. Acc: 0.7105765342712402\n"
     ]
    },
    {
     "name": "stderr",
     "output_type": "stream",
     "text": [
      "\n"
     ]
    },
    {
     "name": "stdout",
     "output_type": "stream",
     "text": [
      "Done. Test loss: 0.7808929681777954. Test acc: 0.7205039858818054\n",
      "Experiment 3 of 5\n"
     ]
    },
    {
     "name": "stderr",
     "output_type": "stream",
     "text": [
      "2619it [16:01,  2.12it/s]"
     ]
    },
    {
     "name": "stdout",
     "output_type": "stream",
     "text": [
      "Ep. 1 - Loss: 0.7907878160476685. Acc: 0.7189767360687256\n"
     ]
    },
    {
     "name": "stderr",
     "output_type": "stream",
     "text": [
      "5238it [31:56,  2.10it/s]"
     ]
    },
    {
     "name": "stdout",
     "output_type": "stream",
     "text": [
      "Ep. 2 - Loss: 0.7869313955307007. Acc: 0.7193585634231567\n"
     ]
    },
    {
     "name": "stderr",
     "output_type": "stream",
     "text": [
      "7857it [47:58,  2.73it/s]"
     ]
    },
    {
     "name": "stdout",
     "output_type": "stream",
     "text": [
      "Ep. 3 - Loss: 0.7895901203155518. Acc: 0.7193585634231567\n"
     ]
    },
    {
     "name": "stderr",
     "output_type": "stream",
     "text": [
      "\n"
     ]
    },
    {
     "name": "stdout",
     "output_type": "stream",
     "text": [
      "Done. Test loss: 0.8272362947463989. Test acc: 0.6941580772399902\n",
      "Experiment 4 of 5\n"
     ]
    },
    {
     "name": "stderr",
     "output_type": "stream",
     "text": [
      "2619it [16:03,  2.20it/s]"
     ]
    },
    {
     "name": "stdout",
     "output_type": "stream",
     "text": [
      "Ep. 1 - Loss: 0.7919737100601196. Acc: 0.72203129529953\n"
     ]
    },
    {
     "name": "stderr",
     "output_type": "stream",
     "text": [
      "5238it [31:59,  2.10it/s]"
     ]
    },
    {
     "name": "stdout",
     "output_type": "stream",
     "text": [
      "Ep. 2 - Loss: 0.7859516739845276. Acc: 0.72203129529953\n"
     ]
    },
    {
     "name": "stderr",
     "output_type": "stream",
     "text": [
      "7857it [47:50,  2.74it/s]"
     ]
    },
    {
     "name": "stdout",
     "output_type": "stream",
     "text": [
      "Ep. 3 - Loss: 0.7870628833770752. Acc: 0.72203129529953\n"
     ]
    },
    {
     "name": "stderr",
     "output_type": "stream",
     "text": [
      "\n"
     ]
    },
    {
     "name": "stdout",
     "output_type": "stream",
     "text": [
      "Done. Test loss: 0.8347107768058777. Test acc: 0.6861397624015808\n",
      "Experiment 5 of 5\n"
     ]
    },
    {
     "name": "stderr",
     "output_type": "stream",
     "text": [
      "2619it [15:51,  2.22it/s]"
     ]
    },
    {
     "name": "stdout",
     "output_type": "stream",
     "text": [
      "Ep. 1 - Loss: 0.7904282808303833. Acc: 0.7193585634231567\n"
     ]
    },
    {
     "name": "stderr",
     "output_type": "stream",
     "text": [
      "5238it [31:39,  2.12it/s]"
     ]
    },
    {
     "name": "stdout",
     "output_type": "stream",
     "text": [
      "Ep. 2 - Loss: 0.7876783013343811. Acc: 0.7212676405906677\n"
     ]
    },
    {
     "name": "stderr",
     "output_type": "stream",
     "text": [
      "7857it [47:34,  2.75it/s]"
     ]
    },
    {
     "name": "stdout",
     "output_type": "stream",
     "text": [
      "Ep. 3 - Loss: 0.7880550622940063. Acc: 0.7212676405906677\n"
     ]
    },
    {
     "name": "stderr",
     "output_type": "stream",
     "text": [
      "\n"
     ]
    },
    {
     "name": "stdout",
     "output_type": "stream",
     "text": [
      "Done. Test loss: 0.8338673114776611. Test acc: 0.6884307265281677\n"
     ]
    }
   ],
   "source": [
    "data = WICO(\"./dataset/WICO/\", root_edges=False, time_delay_edges=False)\n",
    "\n",
    "crossval_results = []\n",
    "n_splits = 5\n",
    "\n",
    "for i in range(n_splits):\n",
    "    print(f\"Experiment {i+1} of {n_splits}\")\n",
    "    train_loader, test_loader = random_split(data, train_epochs=3)\n",
    "\n",
    "    train_results, test_results = evaluate(train_loader, test_loader)\n",
    "\n",
    "    crossval_results.append((train_results, test_results))"
   ]
  },
  {
   "cell_type": "code",
   "execution_count": null,
   "metadata": {},
   "outputs": [],
   "source": []
  }
 ],
 "metadata": {
  "interpreter": {
   "hash": "4a0cdf5044e235b24d1fc042fb09c724f9ff16da5a82a5cb2270a9975034c9c0"
  },
  "kernelspec": {
   "display_name": "Python 3.9.2 64-bit (system)",
   "language": "python",
   "name": "python3"
  },
  "language_info": {
   "codemirror_mode": {
    "name": "ipython",
    "version": 3
   },
   "file_extension": ".py",
   "mimetype": "text/x-python",
   "name": "python",
   "nbconvert_exporter": "python",
   "pygments_lexer": "ipython3",
   "version": "3.9.2"
  },
  "orig_nbformat": 4
 },
 "nbformat": 4,
 "nbformat_minor": 2
}
