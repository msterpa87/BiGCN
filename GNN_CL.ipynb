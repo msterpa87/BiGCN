{
  "nbformat": 4,
  "nbformat_minor": 0,
  "metadata": {
    "colab": {
      "name": "GNN-CL.ipynb",
      "provenance": [],
      "collapsed_sections": [],
      "authorship_tag": "ABX9TyNAdkK02aLtV2M1HzcP8mOX",
      "include_colab_link": true
    },
    "kernelspec": {
      "name": "python3",
      "display_name": "Python 3"
    },
    "language_info": {
      "name": "python"
    }
  },
  "cells": [
    {
      "cell_type": "markdown",
      "metadata": {
        "id": "view-in-github",
        "colab_type": "text"
      },
      "source": [
        "<a href=\"https://colab.research.google.com/github/msterpa87/GNN-CL/blob/master/GNN_CL.ipynb\" target=\"_parent\"><img src=\"https://colab.research.google.com/assets/colab-badge.svg\" alt=\"Open In Colab\"/></a>"
      ]
    },
    {
      "cell_type": "code",
      "execution_count": 5,
      "metadata": {
        "colab": {
          "base_uri": "https://localhost:8080/"
        },
        "id": "qsgtmDDCD2Mj",
        "outputId": "6847a4bc-6057-4395-83f7-7e3e1afe833e"
      },
      "outputs": [
        {
          "output_type": "stream",
          "name": "stdout",
          "text": [
            "Looking in links: https://data.dgl.ai/wheels/repo.html\n",
            "Collecting dgl\n",
            "  Downloading https://data.dgl.ai/wheels/dgl-0.7.2-cp37-cp37m-manylinux1_x86_64.whl (5.7 MB)\n",
            "\u001b[K     |████████████████████████████████| 5.7 MB 2.2 MB/s \n",
            "\u001b[?25hRequirement already satisfied: scipy>=1.1.0 in /usr/local/lib/python3.7/dist-packages (from dgl) (1.4.1)\n",
            "Requirement already satisfied: requests>=2.19.0 in /usr/local/lib/python3.7/dist-packages (from dgl) (2.23.0)\n",
            "Requirement already satisfied: networkx>=2.1 in /usr/local/lib/python3.7/dist-packages (from dgl) (2.6.3)\n",
            "Requirement already satisfied: numpy>=1.14.0 in /usr/local/lib/python3.7/dist-packages (from dgl) (1.19.5)\n",
            "Requirement already satisfied: urllib3!=1.25.0,!=1.25.1,<1.26,>=1.21.1 in /usr/local/lib/python3.7/dist-packages (from requests>=2.19.0->dgl) (1.24.3)\n",
            "Requirement already satisfied: certifi>=2017.4.17 in /usr/local/lib/python3.7/dist-packages (from requests>=2.19.0->dgl) (2021.10.8)\n",
            "Requirement already satisfied: idna<3,>=2.5 in /usr/local/lib/python3.7/dist-packages (from requests>=2.19.0->dgl) (2.10)\n",
            "Requirement already satisfied: chardet<4,>=3.0.2 in /usr/local/lib/python3.7/dist-packages (from requests>=2.19.0->dgl) (3.0.4)\n",
            "Installing collected packages: dgl\n",
            "Successfully installed dgl-0.7.2\n"
          ]
        }
      ],
      "source": [
        "!pip install dgl -f https://data.dgl.ai/wheels/repo.html"
      ]
    },
    {
      "cell_type": "code",
      "source": [
        "import dgl\n",
        "import tensorflow as tf\n",
        "from tensorflow import keras\n",
        "from keras.layers import BatchNormalization, Dense\n",
        "from tensorflow.nn import relu\n",
        "from dgl.nn import DenseSAGEConv"
      ],
      "metadata": {
        "id": "FlblDlgcD5Np"
      },
      "execution_count": 11,
      "outputs": []
    },
    {
      "cell_type": "code",
      "source": [
        "class GNN(tf.keras.Model):\n",
        "  def __init__(self, in_channels, hidden_channels, out_channels,\n",
        "               normalize=False, lin=True):\n",
        "    super(GNN, self).__init__()\n",
        "    self.conv1 = DenseSAGEConv(in_channels, hidden_channels, norm=normalize)\n",
        "    self.bn1 = BatchNormalization()\n",
        "    self.conv2 = DenseSAGEConv(hidden_channels, hidden_channels, norm=normalize)\n",
        "    self.bn2 = BatchNormalization()\n",
        "    self.conv3 = DenseSAGEConv(hidden_channels, out_channels, norm=normalize)\n",
        "    self.bn3 = BatchNormalization()\n",
        "\n",
        "    if lin:\n",
        "      self.lin = Dense(out_channels, input_shape=(2 * hidden_channels + out_channels,))\n",
        "    else:\n",
        "      self.lin = None\n",
        "    \n",
        "  def bn(self, i, x):\n",
        "    batch_size, num_nodes, num_channels = x.size()\n",
        "\n",
        "    x = x.view(-1, num_channels)\n",
        "    x = getattr(self, 'bn{}'.format(i))(x)\n",
        "    x = x.view(batch_size, num_nodes, num_channels)\n",
        "    return x\n",
        "  \n",
        "  def call(self, x, adj, mask=None):\n",
        "    batch_size, num_nodes, in_channels = x.size()\n",
        "\n",
        "    x0 = x\n",
        "    x1 = self.bn(1, relu(self.conv1(x0, adj, mask)))\n",
        "    x2 = self.bn(2, relu(self.conv2(x1, adj, mask)))\n",
        "    x3 = self.bn(3, relu(self.conv3(x2, adj, mask)))\n",
        "\n",
        "    x = tf.concat([x1, x2, x3], axis=1)\n",
        "\n",
        "    if self.lin is not None:\n",
        "      x = relu(self.lin(x))\n",
        "    \n",
        "    return x"
      ],
      "metadata": {
        "id": "SFGk3455D-wH"
      },
      "execution_count": 12,
      "outputs": []
    },
    {
      "cell_type": "code",
      "source": [
        ""
      ],
      "metadata": {
        "id": "00L-uWm1Kj0S"
      },
      "execution_count": null,
      "outputs": []
    }
  ]
}