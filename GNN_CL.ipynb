{
  "nbformat": 4,
  "nbformat_minor": 0,
  "metadata": {
    "colab": {
      "name": "GNN-CL.ipynb",
      "provenance": [],
      "authorship_tag": "ABX9TyMcAFYk4+0TaPBmK0lJ+Wcv",
      "include_colab_link": true
    },
    "kernelspec": {
      "name": "python3",
      "display_name": "Python 3"
    },
    "language_info": {
      "name": "python"
    }
  },
  "cells": [
    {
      "cell_type": "markdown",
      "metadata": {
        "id": "view-in-github",
        "colab_type": "text"
      },
      "source": [
        "<a href=\"https://colab.research.google.com/github/msterpa87/GNN-CL/blob/master/GNN_CL.ipynb\" target=\"_parent\"><img src=\"https://colab.research.google.com/assets/colab-badge.svg\" alt=\"Open In Colab\"/></a>"
      ]
    },
    {
      "cell_type": "code",
      "execution_count": 1,
      "metadata": {
        "colab": {
          "base_uri": "https://localhost:8080/"
        },
        "id": "qsgtmDDCD2Mj",
        "outputId": "0aafae5b-5a23-4a7f-8dbd-998fc92f166f"
      },
      "outputs": [
        {
          "output_type": "stream",
          "name": "stdout",
          "text": [
            "Collecting tf_geometric\n",
            "  Downloading tf_geometric-0.0.81.tar.gz (57 kB)\n",
            "\u001b[?25l\r\u001b[K     |█████▊                          | 10 kB 20.9 MB/s eta 0:00:01\r\u001b[K     |███████████▌                    | 20 kB 26.4 MB/s eta 0:00:01\r\u001b[K     |█████████████████▏              | 30 kB 13.0 MB/s eta 0:00:01\r\u001b[K     |███████████████████████         | 40 kB 10.0 MB/s eta 0:00:01\r\u001b[K     |████████████████████████████▋   | 51 kB 7.6 MB/s eta 0:00:01\r\u001b[K     |████████████████████████████████| 57 kB 1.8 MB/s \n",
            "\u001b[?25hCollecting tf_sparse>=0.0.10\n",
            "  Downloading tf_sparse-0.0.10.tar.gz (9.0 kB)\n",
            "Requirement already satisfied: numpy>=1.17.4 in /usr/local/lib/python3.7/dist-packages (from tf_geometric) (1.19.5)\n",
            "Requirement already satisfied: networkx>=2.1 in /usr/local/lib/python3.7/dist-packages (from tf_geometric) (2.6.3)\n",
            "Requirement already satisfied: scipy>=1.1.0 in /usr/local/lib/python3.7/dist-packages (from tf_geometric) (1.4.1)\n",
            "Requirement already satisfied: scikit-learn>=0.22 in /usr/local/lib/python3.7/dist-packages (from tf_geometric) (1.0.2)\n",
            "Collecting ogb_lite>=0.0.3\n",
            "  Downloading ogb_lite-0.0.3.tar.gz (25 kB)\n",
            "Requirement already satisfied: tqdm in /usr/local/lib/python3.7/dist-packages (from tf_geometric) (4.62.3)\n",
            "Requirement already satisfied: pandas>=0.24.0 in /usr/local/lib/python3.7/dist-packages (from ogb_lite>=0.0.3->tf_geometric) (1.1.5)\n",
            "Requirement already satisfied: six>=1.12.0 in /usr/local/lib/python3.7/dist-packages (from ogb_lite>=0.0.3->tf_geometric) (1.15.0)\n",
            "Requirement already satisfied: urllib3>=1.24.0 in /usr/local/lib/python3.7/dist-packages (from ogb_lite>=0.0.3->tf_geometric) (1.24.3)\n",
            "Collecting outdated>=0.2.0\n",
            "  Downloading outdated-0.2.1-py3-none-any.whl (7.5 kB)\n",
            "Collecting littleutils\n",
            "  Downloading littleutils-0.2.2.tar.gz (6.6 kB)\n",
            "Requirement already satisfied: requests in /usr/local/lib/python3.7/dist-packages (from outdated>=0.2.0->ogb_lite>=0.0.3->tf_geometric) (2.23.0)\n",
            "Requirement already satisfied: pytz>=2017.2 in /usr/local/lib/python3.7/dist-packages (from pandas>=0.24.0->ogb_lite>=0.0.3->tf_geometric) (2018.9)\n",
            "Requirement already satisfied: python-dateutil>=2.7.3 in /usr/local/lib/python3.7/dist-packages (from pandas>=0.24.0->ogb_lite>=0.0.3->tf_geometric) (2.8.2)\n",
            "Requirement already satisfied: joblib>=0.11 in /usr/local/lib/python3.7/dist-packages (from scikit-learn>=0.22->tf_geometric) (1.1.0)\n",
            "Requirement already satisfied: threadpoolctl>=2.0.0 in /usr/local/lib/python3.7/dist-packages (from scikit-learn>=0.22->tf_geometric) (3.0.0)\n",
            "Requirement already satisfied: chardet<4,>=3.0.2 in /usr/local/lib/python3.7/dist-packages (from requests->outdated>=0.2.0->ogb_lite>=0.0.3->tf_geometric) (3.0.4)\n",
            "Requirement already satisfied: certifi>=2017.4.17 in /usr/local/lib/python3.7/dist-packages (from requests->outdated>=0.2.0->ogb_lite>=0.0.3->tf_geometric) (2021.10.8)\n",
            "Requirement already satisfied: idna<3,>=2.5 in /usr/local/lib/python3.7/dist-packages (from requests->outdated>=0.2.0->ogb_lite>=0.0.3->tf_geometric) (2.10)\n",
            "Building wheels for collected packages: tf-geometric, ogb-lite, tf-sparse, littleutils\n",
            "  Building wheel for tf-geometric (setup.py) ... \u001b[?25l\u001b[?25hdone\n",
            "  Created wheel for tf-geometric: filename=tf_geometric-0.0.81-py3-none-any.whl size=83616 sha256=e3e3a9ca57739109038fc64fd1d4cf5eabeeaddc5f42002e32c2ec7457735339\n",
            "  Stored in directory: /root/.cache/pip/wheels/15/96/bd/40006d7b40d830014b65c59b8494145713b9ac9236f04e678e\n",
            "  Building wheel for ogb-lite (setup.py) ... \u001b[?25l\u001b[?25hdone\n",
            "  Created wheel for ogb-lite: filename=ogb_lite-0.0.3-py3-none-any.whl size=33524 sha256=47aae5cad48f5dea8c99ea70cce3a97f09342886b670d1f307fc08e4bab137bc\n",
            "  Stored in directory: /root/.cache/pip/wheels/bb/98/b1/5d034ba69940a93aa9b8e05f6e2f630f47b045209bc3cfa210\n",
            "  Building wheel for tf-sparse (setup.py) ... \u001b[?25l\u001b[?25hdone\n",
            "  Created wheel for tf-sparse: filename=tf_sparse-0.0.10-py3-none-any.whl size=8412 sha256=e88201ac7032bb4c221fb37f1a636ba2d595d3b426c7373b5b87ee02236687fa\n",
            "  Stored in directory: /root/.cache/pip/wheels/00/a8/f3/d2bbee94f874cd00b6be8e70da2493e84e9a4775944d913728\n",
            "  Building wheel for littleutils (setup.py) ... \u001b[?25l\u001b[?25hdone\n",
            "  Created wheel for littleutils: filename=littleutils-0.2.2-py3-none-any.whl size=7048 sha256=f6d7f60166aed58f782d8d726f52bdafc757707e11f249a635e783ea08a8b12a\n",
            "  Stored in directory: /root/.cache/pip/wheels/d6/64/cd/32819b511a488e4993f2fab909a95330289c3f4e0f6ef4676d\n",
            "Successfully built tf-geometric ogb-lite tf-sparse littleutils\n",
            "Installing collected packages: littleutils, outdated, tf-sparse, ogb-lite, tf-geometric\n",
            "Successfully installed littleutils-0.2.2 ogb-lite-0.0.3 outdated-0.2.1 tf-geometric-0.0.81 tf-sparse-0.0.10\n"
          ]
        }
      ],
      "source": [
        "!pip install tf_geometric"
      ]
    },
    {
      "cell_type": "code",
      "source": [
        "import tf_geometric as tfg\n",
        "import tensorflow as tf"
      ],
      "metadata": {
        "id": "FlblDlgcD5Np"
      },
      "execution_count": 3,
      "outputs": []
    },
    {
      "cell_type": "code",
      "source": [
        "class GNN(tf.)"
      ],
      "metadata": {
        "id": "SFGk3455D-wH"
      },
      "execution_count": null,
      "outputs": []
    }
  ]
}