{
 "cells": [
  {
   "cell_type": "code",
   "execution_count": 122,
   "metadata": {},
   "outputs": [],
   "source": [
    "import json\n",
    "from os import listdir, mkdir\n",
    "import networkx as nx\n",
    "from contextlib import suppress\n",
    "\n",
    "MAX_TIME_DIFF = 1\n",
    "MIN_SUBGRAPH_EDGES = 5"
   ]
  },
  {
   "cell_type": "code",
   "execution_count": 64,
   "metadata": {},
   "outputs": [],
   "source": [
    "class TwitterNode(object):\n",
    "    def __init__(self, pathname) -> None:\n",
    "        with open(pathname) as f:\n",
    "            node = json.load(f)\n",
    "        \n",
    "        user = node['user']\n",
    "        self.followers_count = user['followers_count']\n",
    "        self.friends_count = user['friends_count']\n",
    "        self.statuses_count = user['statuses_count']\n",
    "        self.user_id = user['id']\n",
    "        self.tweet_id = node['id']\n",
    "        self.mentions = [x['id'] for x in node['entities']['user_mentions']]\n",
    "        self.created_at = datetime.strptime(node['created_at'], \"%a %b %d %H:%M:%S %z %Y\")\n"
   ]
  },
  {
   "cell_type": "code",
   "execution_count": 126,
   "metadata": {},
   "outputs": [
    {
     "name": "stdout",
     "output_type": "stream",
     "text": [
      "Skipping politifact445 not enough edges\n"
     ]
    }
   ],
   "source": [
    "path = \"./dataset/FakeNewsNet/politifact/real/\"\n",
    "graphs_path = f\"{path}/subgraphs\"\n",
    "\n",
    "with suppress(FileExistsError):\n",
    "    mkdir(graphs_path)\n",
    "\n",
    "edge_lists = {}\n",
    "\n",
    "for news_id in filter(lambda x: \"politifact\" in x, listdir(path)):\n",
    "    news_path = f\"{path}/{news_id}\"\n",
    "\n",
    "    try:\n",
    "        json_files = listdir(news_path)\n",
    "    except NotADirectoryError as e:\n",
    "        continue\n",
    "\n",
    "    edge_lists[news_id] = []\n",
    "\n",
    "    for filename in filter(lambda x: \"json\" in x, json_files):\n",
    "        node_path = f\"{news_path}/{filename}\"\n",
    "        node = TwitterNode(node_path)\n",
    "\n",
    "        # root tweet edge to each mentions\n",
    "        edge_lists[news_id].extend([(node.user_id, x) for x in node.mentions])\n",
    "\n",
    "        # news node edge to each root tweet\n",
    "        edge_lists[news_id].append((0, node.user_id))\n",
    "    \n",
    "    if len(edge_lists[news_id]) >= MIN_SUBGRAPH_EDGES:\n",
    "        save_edge_list(edge_lists[news_id], f\"{graphs_path}/{news_id}.txt\")\n",
    "    else:\n",
    "        print(f\"Skipping {news_id} not enough edges\")"
   ]
  },
  {
   "cell_type": "code",
   "execution_count": 113,
   "metadata": {},
   "outputs": [],
   "source": [
    "def save_edge_list(edge_list, pathname):\n",
    "    with open(pathname, \"w\") as f:\n",
    "        for (u,v) in edge_list:\n",
    "            f.write(f\"{u}, {v}\\n\")"
   ]
  },
  {
   "cell_type": "code",
   "execution_count": 83,
   "metadata": {},
   "outputs": [
    {
     "data": {
      "text/plain": [
       "1155"
      ]
     },
     "execution_count": 83,
     "metadata": {},
     "output_type": "execute_result"
    }
   ],
   "source": [
    "edge_list = []\n",
    "\n",
    "MAX_TIME_DIFF = 1\n",
    "\n",
    "for node in node_list:\n",
    "    #\n",
    "\n",
    "len(edge_list)"
   ]
  },
  {
   "cell_type": "code",
   "execution_count": 93,
   "metadata": {},
   "outputs": [],
   "source": [
    "def tweet_timedelta(x, y):\n",
    "    return round((x.created_at - y.created_at).total_seconds() / 3600, 2)"
   ]
  },
  {
   "cell_type": "code",
   "execution_count": 100,
   "metadata": {},
   "outputs": [
    {
     "name": "stdout",
     "output_type": "stream",
     "text": [
      "added 248230 of 500500.0)\n"
     ]
    }
   ],
   "source": [
    "additional_edges = []\n",
    "n = len(node_list)\n",
    "count = 0\n",
    "\n",
    "for i,node1 in enumerate(node_list):\n",
    "    for node2 in node_list[(i+1):]:\n",
    "        diff = tweet_timedelta(node1, node2)\n",
    "\n",
    "        if abs(diff) < MAX_TIME_DIFF:\n",
    "            if diff < 0:\n",
    "                additional_edges.append((node1.user_id, node2.user_id))\n",
    "            else:\n",
    "                additional_edges.append((node2.user_id, node1.user_id))\n",
    "            count += 1\n",
    "\n",
    "print(f\"added {count} of {n*(n-1)/2})\")\n"
   ]
  },
  {
   "cell_type": "code",
   "execution_count": null,
   "metadata": {},
   "outputs": [],
   "source": []
  }
 ],
 "metadata": {
  "interpreter": {
   "hash": "40d3a090f54c6569ab1632332b64b2c03c39dcf918b08424e98f38b5ae0af88f"
  },
  "kernelspec": {
   "display_name": "Python 3.8.8 64-bit ('base': conda)",
   "language": "python",
   "name": "python3"
  },
  "language_info": {
   "codemirror_mode": {
    "name": "ipython",
    "version": 3
   },
   "file_extension": ".py",
   "mimetype": "text/x-python",
   "name": "python",
   "nbconvert_exporter": "python",
   "pygments_lexer": "ipython3",
   "version": "3.8.8"
  },
  "orig_nbformat": 4
 },
 "nbformat": 4,
 "nbformat_minor": 2
}
