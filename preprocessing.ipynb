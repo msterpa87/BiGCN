{
 "cells": [
  {
   "cell_type": "code",
   "execution_count": 65,
   "metadata": {},
   "outputs": [
    {
     "name": "stdout",
     "output_type": "stream",
     "text": [
      "The autoreload extension is already loaded. To reload it, use:\n",
      "  %reload_ext autoreload\n"
     ]
    }
   ],
   "source": [
    "%load_ext autoreload\n",
    "%autoreload 2\n",
    "\n",
    "from dataloader import WICO\n",
    "import tensorflow as tf\n",
    "from model import Net\n",
    "from spektral.data import DisjointLoader\n",
    "from tensorflow import keras\n",
    "from tqdm import tqdm\n",
    "import numpy as np\n",
    "\n",
    "from tensorflow.keras.losses import CategoricalCrossentropy\n",
    "from tensorflow.keras.optimizers import Adam\n",
    "from tensorflow.keras.metrics import categorical_accuracy"
   ]
  },
  {
   "cell_type": "code",
   "execution_count": 6,
   "metadata": {},
   "outputs": [],
   "source": [
    "def train_step():\n",
    "    pass"
   ]
  },
  {
   "cell_type": "code",
   "execution_count": 97,
   "metadata": {},
   "outputs": [],
   "source": [
    "data = WICO(\"./dataset/WICO/\", root_edges=False, time_delay_edges=False)"
   ]
  },
  {
   "cell_type": "code",
   "execution_count": 98,
   "metadata": {},
   "outputs": [],
   "source": [
    "np.random.default_rng(0)\n",
    "np.random.shuffle(data)\n",
    "\n",
    "train_pct = 0.2\n",
    "val_pct = 0.1\n",
    "num_epochs = 5\n",
    "\n",
    "n = len(data)\n",
    "train_size, val_size = int(n*train_pct), int(val_pct*n)\n",
    "\n",
    "train_set = data[:train_size]\n",
    "val_set = data[train_size:(train_size + val_size)]\n",
    "test_set = data[(train_size + val_size):]\n",
    "\n",
    "train_loader = DisjointLoader(train_set, batch_size=1, epochs=num_epochs)\n",
    "val_loader = DisjointLoader(val_set, batch_size=1, epochs=1)\n",
    "test_loader = DisjointLoader(test_set, batch_size=1, epochs=1)"
   ]
  },
  {
   "cell_type": "code",
   "execution_count": 99,
   "metadata": {},
   "outputs": [],
   "source": [
    "model = Net(num_classes=3)\n",
    "loss_fn = CategoricalCrossentropy(from_logits=True)\n",
    "optimizer = Adam(learning_rate=0.001)\n",
    "\n",
    "def train_step(inputs, target):\n",
    "\n",
    "    with tf.GradientTape() as tape:\n",
    "        predictions, _, _ = model(X[:2])  # drop edge features from inputs\n",
    "        loss = loss_fn(target, predictions)\n",
    "    \n",
    "    gradients = tape.gradient(loss, model.trainable_variables)\n",
    "    optimizer.apply_gradients(zip(gradients, model.trainable_variables))\n",
    "    acc = tf.reduce_mean(categorical_accuracy(target, predictions))\n",
    "    return loss, acc"
   ]
  },
  {
   "cell_type": "code",
   "execution_count": 100,
   "metadata": {},
   "outputs": [
    {
     "name": "stderr",
     "output_type": "stream",
     "text": [
      "698it [04:07,  2.48it/s]"
     ]
    },
    {
     "name": "stdout",
     "output_type": "stream",
     "text": [
      "Ep. 1 - Loss: 0.8249131441116333. Acc: 0.6962750554084778\n"
     ]
    },
    {
     "name": "stderr",
     "output_type": "stream",
     "text": [
      "1396it [08:12,  2.60it/s]"
     ]
    },
    {
     "name": "stdout",
     "output_type": "stream",
     "text": [
      "Ep. 2 - Loss: 0.8156884908676147. Acc: 0.7020057439804077\n"
     ]
    },
    {
     "name": "stderr",
     "output_type": "stream",
     "text": [
      "2094it [12:26,  2.59it/s]"
     ]
    },
    {
     "name": "stdout",
     "output_type": "stream",
     "text": [
      "Ep. 3 - Loss: 0.8137251734733582. Acc: 0.7020057439804077\n"
     ]
    },
    {
     "name": "stderr",
     "output_type": "stream",
     "text": [
      "2792it [16:43,  2.96it/s]"
     ]
    },
    {
     "name": "stdout",
     "output_type": "stream",
     "text": [
      "Ep. 4 - Loss: 0.8159133195877075. Acc: 0.7020057439804077\n"
     ]
    },
    {
     "name": "stderr",
     "output_type": "stream",
     "text": [
      "3490it [20:38,  2.82it/s]"
     ]
    },
    {
     "name": "stdout",
     "output_type": "stream",
     "text": [
      "Ep. 5 - Loss: 0.8146923780441284. Acc: 0.7020057439804077\n"
     ]
    },
    {
     "name": "stderr",
     "output_type": "stream",
     "text": [
      "\n"
     ]
    }
   ],
   "source": [
    "epoch = step = 0\n",
    "results = []\n",
    "\n",
    "for batch in tqdm(train_loader):\n",
    "    step += 1\n",
    "    loss, acc = train_step(*batch)\n",
    "    results.append((loss, acc))\n",
    "\n",
    "    if step == train_loader.steps_per_epoch:\n",
    "        step = 0\n",
    "        epoch += 1\n",
    "        print(\"Ep. {} - Loss: {}. Acc: {}\".format(epoch, *np.mean(results, 0)))\n",
    "        results = []"
   ]
  },
  {
   "cell_type": "code",
   "execution_count": 103,
   "metadata": {},
   "outputs": [
    {
     "name": "stdout",
     "output_type": "stream",
     "text": [
      "Done. Test loss: 0.7919934391975403. Test acc: 0.7187883853912354\n"
     ]
    }
   ],
   "source": [
    "results = []\n",
    "\n",
    "for batch in test_loader:\n",
    "    inputs, target = batch\n",
    "    predictions, _, _ = model(inputs[:2], training=False)\n",
    "    results.append(\n",
    "        (\n",
    "            loss_fn(target, predictions),\n",
    "            tf.reduce_mean(categorical_accuracy(target, predictions)),\n",
    "        )\n",
    "    )\n",
    "print(\"Done. Test loss: {}. Test acc: {}\".format(*np.mean(results, 0)))"
   ]
  },
  {
   "cell_type": "code",
   "execution_count": 63,
   "metadata": {},
   "outputs": [
    {
     "name": "stderr",
     "output_type": "stream",
     "text": [
      "15it [00:05,  2.84it/s]"
     ]
    },
    {
     "name": "stdout",
     "output_type": "stream",
     "text": [
      "epoch=1, loss=1.096, accuracy=0.467\n"
     ]
    },
    {
     "name": "stderr",
     "output_type": "stream",
     "text": [
      "24it [00:08,  2.77it/s]\n"
     ]
    }
   ],
   "source": [
    "\n",
    "\n",
    "out_log = []\n",
    "\n",
    "\n",
    "train_loss_results = []\n",
    "train_accuracy_results = []\n",
    "\n",
    "epoch_loss_avg = tf.keras.metrics.Mean()\n",
    "epoch_accuracy = tf.keras.metrics.CategoricalAccuracy()\n",
    "\n",
    "step = 0\n",
    "\n",
    "for (features, adj, _), y_true in tqdm(train_loader):\n",
    "    step += 1\n",
    "    with tf.GradientTape() as tape:\n",
    "        # model prediction\n",
    "        out, _, _ = model([features, adj])            \n",
    "        y_pred = tf.nn.softmax(out, axis=1)\n",
    "        loss_val = loss_object(y_true=y_true, y_pred=y_pred)\n",
    "    \n",
    "    epoch_loss_avg.update_state(loss_val.numpy())\n",
    "\n",
    "    epoch_accuracy.update_state(y_true, y_pred)\n",
    "    grads = tape.gradient(loss_val, model.trainable_variables)\n",
    "\n",
    "    optimizer.apply_gradients(zip(grads, model.trainable_variables))\n",
    "\n",
    "    train_loss_results.append(epoch_loss_avg.result())\n",
    "    train_accuracy_results.append(epoch_accuracy.result())\n",
    "\n",
    "    if step % train_loader.steps_per_epoch == 0:\n",
    "        epoch = step // train_loader.steps_per_epoch\n",
    "\n",
    "        print(f\"epoch={epoch}, loss={epoch_loss_avg.result():.3f}, accuracy={epoch_accuracy.result():.3f}\")\n",
    "\n"
   ]
  },
  {
   "cell_type": "code",
   "execution_count": 64,
   "metadata": {},
   "outputs": [
    {
     "data": {
      "text/plain": [
       "15"
      ]
     },
     "execution_count": 64,
     "metadata": {},
     "output_type": "execute_result"
    }
   ],
   "source": [
    "train_loader.steps_per_epoch"
   ]
  },
  {
   "cell_type": "code",
   "execution_count": null,
   "metadata": {},
   "outputs": [],
   "source": []
  }
 ],
 "metadata": {
  "interpreter": {
   "hash": "4a0cdf5044e235b24d1fc042fb09c724f9ff16da5a82a5cb2270a9975034c9c0"
  },
  "kernelspec": {
   "display_name": "Python 3.9.2 64-bit (system)",
   "language": "python",
   "name": "python3"
  },
  "language_info": {
   "codemirror_mode": {
    "name": "ipython",
    "version": 3
   },
   "file_extension": ".py",
   "mimetype": "text/x-python",
   "name": "python",
   "nbconvert_exporter": "python",
   "pygments_lexer": "ipython3",
   "version": "3.9.2"
  },
  "orig_nbformat": 4
 },
 "nbformat": 4,
 "nbformat_minor": 2
}
