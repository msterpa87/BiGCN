{
 "cells": [
  {
   "cell_type": "code",
   "execution_count": 1,
   "id": "3129b196",
   "metadata": {},
   "outputs": [],
   "source": [
    "import tweepy\n",
    "import pandas as pd\n",
    "from os import mkdir, listdir\n",
    "from contextlib import suppress\n",
    "from utils import get_twitter_api\n",
    "from tweepy.errors import NotFound, Forbidden\n",
    "import json\n",
    "\n",
    "MAX_TWEETS = 2000\n",
    "MAX_REQUESTS = 100\n",
    "\n",
    "api = get_twitter_api()"
   ]
  },
  {
   "cell_type": "code",
   "execution_count": 2,
   "id": "d1157aa7",
   "metadata": {},
   "outputs": [],
   "source": [
    "def save_tweets(news_id, tweet_ids, path):\n",
    "    n = len(tweet_ids)\n",
    "    idx_list = list(range(0, n, MAX_REQUESTS)) + [n]\n",
    "\n",
    "    for idx, i in enumerate(idx_list[:-1]):\n",
    "        chunk = tweet_ids[i:idx_list[idx+1]]\n",
    "\n",
    "        status_list = api.lookup_statuses(id=chunk)\n",
    "        retweets_list = []\n",
    "        \n",
    "        # get retweets\n",
    "        for tweet in status_list:\n",
    "            if tweet.retweet_count:\n",
    "                with suppress(NotFound, Forbidden):\n",
    "                    retweets = api.get_retweets(tweet.id)\n",
    "                    # add field to retrieve ID of original tweet\n",
    "                    for x in retweets:\n",
    "                        x._json['retweeted_from'] = tweet.id\n",
    "                    \n",
    "                    retweets_list.extend(retweets)\n",
    "\n",
    "        if len(retweets_list):\n",
    "            print(f\"Found a total of {len(retweets_list)} retweets.\")\n",
    "\n",
    "            json_path = f\"{path}/retweets/{news_id}\"\n",
    "            mkdir(json_path)\n",
    "\n",
    "            for retweet in retweets_list:\n",
    "                with open(f\"{json_path}/{retweet.id_str}.json\", \"w\") as f:\n",
    "                    json.dump(retweet._json, f)\n",
    "        \n",
    "        continue\n",
    "\n",
    "        json_path = f\"{path}/tweets/{news_id}\"\n",
    "        mkdir(json_path)\n",
    "\n",
    "        for tweet in status_list:\n",
    "            with open(f\"{json_path}/{tweet.id_str}.json\", \"w\") as f:\n",
    "                json.dump(tweet._json, f)"
   ]
  },
  {
   "cell_type": "code",
   "execution_count": 3,
   "id": "3e593be6",
   "metadata": {},
   "outputs": [
    {
     "name": "stdout",
     "output_type": "stream",
     "text": [
      "Processed 0 of 409\n",
      "politifact14984: 1174 tweets\n",
      "Found a total of 100 retweets.\n",
      "politifact12944: 51 tweets\n",
      "Found a total of 26 retweets.\n",
      "politifact779: 8 tweets\n",
      "politifact14064: 30 tweets\n",
      "Found a total of 26 retweets.\n",
      "politifact14474: 96 tweets\n",
      "Found a total of 57 retweets.\n",
      "politifact1313: 1882 tweets\n",
      "Found a total of 4 retweets.\n",
      "politifact937: 1544 tweets\n",
      "Found a total of 5 retweets.\n",
      "politifact1519: 55 tweets\n",
      "Found a total of 2 retweets.\n",
      "politifact13068: 15 tweets\n",
      "Found a total of 8 retweets.\n",
      "politifact11747: 60 tweets\n"
     ]
    },
    {
     "name": "stderr",
     "output_type": "stream",
     "text": [
      "Rate limit reached. Sleeping for: 870\n"
     ]
    },
    {
     "name": "stdout",
     "output_type": "stream",
     "text": [
      "Found a total of 16 retweets.\n",
      "politifact9691: 55 tweets\n",
      "Found a total of 9 retweets.\n",
      "politifact13420: 1933 tweets\n",
      "Found a total of 29 retweets.\n",
      "Found a total of 44 retweets.\n",
      "politifact423: 2 tweets\n",
      "Found a total of 1 retweets.\n",
      "politifact13087: 31 tweets\n",
      "Found a total of 58 retweets.\n",
      "politifact13132: 30 tweets\n",
      "Found a total of 28 retweets.\n",
      "politifact1084: 238 tweets\n",
      "Found a total of 75 retweets.\n"
     ]
    },
    {
     "name": "stderr",
     "output_type": "stream",
     "text": [
      "Rate limit reached. Sleeping for: 870\n"
     ]
    },
    {
     "name": "stdout",
     "output_type": "stream",
     "text": [
      "Found a total of 55 retweets.\n",
      "politifact2166: 35 tweets\n",
      "Found a total of 26 retweets.\n",
      "politifact58: 1 tweets\n",
      "politifact13303: 95 tweets\n",
      "Found a total of 63 retweets.\n",
      "politifact3892: 1 tweets\n",
      "politifact6641: 37 tweets\n",
      "Found a total of 1 retweets.\n",
      "politifact513: 1020 tweets\n",
      "Found a total of 79 retweets.\n",
      "Found a total of 39 retweets.\n",
      "politifact14070: 61 tweets\n",
      "Found a total of 187 retweets.\n",
      "politifact806: 13 tweets\n",
      "Found a total of 3 retweets.\n",
      "politifact9196: 7 tweets\n",
      "Found a total of 1 retweets.\n",
      "politifact12945: 58 tweets\n"
     ]
    },
    {
     "name": "stderr",
     "output_type": "stream",
     "text": [
      "Rate limit reached. Sleeping for: 868\n"
     ]
    },
    {
     "name": "stdout",
     "output_type": "stream",
     "text": [
      "Found a total of 107 retweets.\n",
      "politifact14036: 2000 tweets\n",
      "Found a total of 51 retweets.\n",
      "Found a total of 54 retweets.\n",
      "politifact537: 965 tweets\n",
      "Found a total of 30 retweets.\n",
      "Found a total of 11 retweets.\n",
      "politifact118: 1638 tweets\n",
      "Found a total of 68 retweets.\n"
     ]
    },
    {
     "name": "stderr",
     "output_type": "stream",
     "text": [
      "Rate limit reached. Sleeping for: 869\n"
     ]
    },
    {
     "name": "stdout",
     "output_type": "stream",
     "text": [
      "Found a total of 45 retweets.\n",
      "politifact9576: 6 tweets\n",
      "politifact356: 1854 tweets\n",
      "Found a total of 7 retweets.\n",
      "Found a total of 5 retweets.\n",
      "politifact401: 1274 tweets\n",
      "Found a total of 29 retweets.\n",
      "Found a total of 71 retweets.\n",
      "politifact384: 2000 tweets\n",
      "Found a total of 9 retweets.\n",
      "Found a total of 2 retweets.\n",
      "politifact12148: 6 tweets\n",
      "politifact12411: 1232 tweets\n",
      "Found a total of 33 retweets.\n",
      "Found a total of 21 retweets.\n",
      "politifact13013: 40 tweets\n",
      "Found a total of 4 retweets.\n",
      "politifact11191: 989 tweets\n",
      "Found a total of 9 retweets.\n",
      "Found a total of 1 retweets.\n",
      "politifact12079: 772 tweets\n"
     ]
    },
    {
     "name": "stderr",
     "output_type": "stream",
     "text": [
      "Rate limit reached. Sleeping for: 864\n"
     ]
    },
    {
     "name": "stdout",
     "output_type": "stream",
     "text": [
      "Found a total of 39 retweets.\n",
      "Found a total of 108 retweets.\n",
      "politifact11761: 22 tweets\n",
      "Found a total of 21 retweets.\n",
      "politifact51: 2 tweets\n",
      "politifact10209: 853 tweets\n",
      "Found a total of 20 retweets.\n",
      "Found a total of 55 retweets.\n",
      "politifact11899: 91 tweets\n",
      "Found a total of 24 retweets.\n",
      "politifact514: 47 tweets\n",
      "Found a total of 14 retweets.\n",
      "politifact385: 2 tweets\n",
      "politifact2298: 4 tweets\n",
      "Found a total of 1 retweets.\n",
      "politifact1216: 2000 tweets\n"
     ]
    },
    {
     "name": "stderr",
     "output_type": "stream",
     "text": [
      "Rate limit reached. Sleeping for: 867\n"
     ]
    },
    {
     "name": "stdout",
     "output_type": "stream",
     "text": [
      "Found a total of 112 retweets.\n",
      "Found a total of 147 retweets.\n",
      "politifact11989: 495 tweets\n",
      "Found a total of 80 retweets.\n",
      "Found a total of 63 retweets.\n",
      "politifact1307: 8 tweets\n"
     ]
    },
    {
     "name": "stderr",
     "output_type": "stream",
     "text": [
      "Rate limit reached. Sleeping for: 870\n"
     ]
    },
    {
     "name": "stdout",
     "output_type": "stream",
     "text": [
      "Found a total of 6 retweets.\n",
      "politifact13833: 22 tweets\n",
      "Found a total of 21 retweets.\n",
      "politifact636: 19 tweets\n",
      "politifact10408: 1385 tweets\n",
      "Found a total of 33 retweets.\n",
      "Found a total of 41 retweets.\n",
      "politifact542: 1558 tweets\n",
      "Found a total of 2 retweets.\n",
      "Found a total of 26 retweets.\n",
      "politifact620: 1564 tweets\n",
      "Found a total of 5 retweets.\n",
      "Found a total of 1 retweets.\n",
      "politifact979: 285 tweets\n",
      "Found a total of 16 retweets.\n",
      "Found a total of 18 retweets.\n",
      "politifact13310: 525 tweets\n"
     ]
    },
    {
     "name": "stderr",
     "output_type": "stream",
     "text": [
      "Rate limit reached. Sleeping for: 867\n"
     ]
    },
    {
     "name": "stdout",
     "output_type": "stream",
     "text": [
      "Found a total of 27 retweets.\n",
      "Found a total of 36 retweets.\n",
      "politifact11960: 47 tweets\n",
      "Found a total of 18 retweets.\n",
      "politifact12057: 185 tweets\n",
      "Found a total of 30 retweets.\n",
      "Found a total of 23 retweets.\n",
      "politifact746: 1 tweets\n",
      "Found a total of 1 retweets.\n",
      "politifact683: 2000 tweets\n",
      "Found a total of 186 retweets.\n"
     ]
    },
    {
     "name": "stderr",
     "output_type": "stream",
     "text": [
      "Rate limit reached. Sleeping for: 869\n"
     ]
    },
    {
     "name": "stdout",
     "output_type": "stream",
     "text": [
      "Found a total of 169 retweets.\n",
      "politifact245: 121 tweets\n",
      "Found a total of 5 retweets.\n",
      "politifact14940: 165 tweets\n",
      "Found a total of 48 retweets.\n",
      "Found a total of 27 retweets.\n",
      "politifact1177: 38 tweets\n",
      "Found a total of 1 retweets.\n",
      "politifact224: 1 tweets\n",
      "politifact13058: 938 tweets\n",
      "Found a total of 9 retweets.\n",
      "Found a total of 12 retweets.\n",
      "politifact4275: 1 tweets\n",
      "politifact182: 1 tweets\n",
      "Found a total of 2 retweets.\n",
      "politifact13193: 682 tweets\n",
      "Found a total of 45 retweets.\n"
     ]
    },
    {
     "name": "stderr",
     "output_type": "stream",
     "text": [
      "Rate limit reached. Sleeping for: 866\n"
     ]
    },
    {
     "name": "stdout",
     "output_type": "stream",
     "text": [
      "Found a total of 37 retweets.\n",
      "politifact763: 2 tweets\n",
      "Processed 100 of 409\n",
      "politifact7563: 55 tweets\n",
      "Found a total of 6 retweets.\n",
      "politifact8310: 116 tweets\n",
      "Found a total of 43 retweets.\n",
      "Found a total of 2 retweets.\n",
      "politifact11580: 751 tweets\n",
      "Found a total of 47 retweets.\n",
      "Found a total of 1 retweets.\n",
      "politifact1213: 2000 tweets\n",
      "Found a total of 38 retweets.\n",
      "Found a total of 21 retweets.\n",
      "politifact65: 23 tweets\n",
      "Found a total of 23 retweets.\n",
      "politifact11855: 4 tweets\n",
      "politifact8737: 121 tweets\n",
      "Found a total of 3 retweets.\n",
      "Found a total of 3 retweets.\n",
      "politifact1731: 2000 tweets\n",
      "Found a total of 98 retweets.\n"
     ]
    },
    {
     "name": "stderr",
     "output_type": "stream",
     "text": [
      "Rate limit reached. Sleeping for: 855\n"
     ]
    },
    {
     "name": "stdout",
     "output_type": "stream",
     "text": [
      "Found a total of 34 retweets.\n",
      "politifact756: 34 tweets\n",
      "Found a total of 12 retweets.\n",
      "politifact489: 16 tweets\n",
      "politifact11709: 744 tweets\n",
      "Found a total of 11 retweets.\n",
      "Found a total of 42 retweets.\n",
      "politifact9512: 2000 tweets\n",
      "Found a total of 128 retweets.\n"
     ]
    },
    {
     "name": "stderr",
     "output_type": "stream",
     "text": [
      "Rate limit reached. Sleeping for: 870\n"
     ]
    },
    {
     "name": "stdout",
     "output_type": "stream",
     "text": [
      "Found a total of 85 retweets.\n",
      "politifact6730: 1542 tweets\n",
      "Found a total of 2 retweets.\n",
      "Found a total of 1 retweets.\n",
      "politifact7888: 2000 tweets\n",
      "Found a total of 20 retweets.\n",
      "Found a total of 45 retweets.\n",
      "politifact8130: 216 tweets\n",
      "Found a total of 4 retweets.\n",
      "Found a total of 7 retweets.\n",
      "politifact215: 662 tweets\n",
      "Found a total of 1 retweets.\n",
      "Found a total of 6 retweets.\n",
      "politifact5608: 3 tweets\n",
      "politifact783: 6 tweets\n",
      "politifact1212: 1313 tweets\n",
      "Found a total of 1 retweets.\n",
      "Found a total of 13 retweets.\n",
      "politifact2624: 815 tweets\n",
      "Found a total of 7 retweets.\n"
     ]
    },
    {
     "name": "stderr",
     "output_type": "stream",
     "text": [
      "Rate limit reached. Sleeping for: 857\n"
     ]
    }
   ],
   "source": [
    "for dataset in [\"politifact\"]:\n",
    "    for news_type in [\"real\", \"fake\"]:\n",
    "        df = pd.read_csv(f\"dataset/FakeNewsNet/{dataset}_{news_type}.csv\")\n",
    "        df = df[~df['tweet_ids'].isnull()]\n",
    "        n = len(df)\n",
    "        \n",
    "        for i, (news_id, url, title, tweet_ids) in df.iterrows():\n",
    "            if i % 100 == 0:\n",
    "                print(f\"Processed {i} of {n}\")\n",
    "            \n",
    "            # convert tweet ids string to ints\n",
    "            tweet_ids = list(map(int, tweet_ids.split('\\t')))[:MAX_TWEETS]\n",
    "\n",
    "            with suppress(FileExistsError):\n",
    "                path = f\"./dataset/FakeNewsNet/{dataset}/{news_type}\"\n",
    "                print(f\"{news_id}: {len(tweet_ids)} tweets\")\n",
    "                save_tweets(news_id, tweet_ids, path)\n"
   ]
  },
  {
   "cell_type": "code",
   "execution_count": null,
   "id": "12abb966",
   "metadata": {},
   "outputs": [],
   "source": []
  }
 ],
 "metadata": {
  "kernelspec": {
   "display_name": "Python 3",
   "language": "python",
   "name": "python3"
  },
  "language_info": {
   "codemirror_mode": {
    "name": "ipython",
    "version": 3
   },
   "file_extension": ".py",
   "mimetype": "text/x-python",
   "name": "python",
   "nbconvert_exporter": "python",
   "pygments_lexer": "ipython3",
   "version": "3.9.2"
  }
 },
 "nbformat": 4,
 "nbformat_minor": 5
}
