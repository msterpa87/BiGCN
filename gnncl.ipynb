{
 "cells": [
  {
   "cell_type": "code",
   "execution_count": 37,
   "metadata": {},
   "outputs": [],
   "source": [
    "import tensorflow as tf\n",
    "from tensorflow.keras.layers import Dense, BatchNormalization\n",
    "from tensorflow.keras.activations import relu\n",
    "from spektral.layers import GraphSageConv\n",
    "from spektral.data.graph import Graph\n",
    "from contextlib import suppress\n",
    "import spektral\n",
    "import numpy as np\n",
    "from spektral.data.graph import Graph"
   ]
  },
  {
   "cell_type": "code",
   "execution_count": 24,
   "metadata": {},
   "outputs": [],
   "source": [
    "class GNN(tf.keras.Model):\n",
    "    def __init__(self, hidden_channels, out_channels, add_linear=True):\n",
    "        super(GNN, self).__init__()\n",
    "        self.conv1 = GraphSageConv(hidden_channels)\n",
    "        self.bn1 = BatchNormalization()\n",
    "        self.conv2 = GraphSageConv(hidden_channels)\n",
    "        self.bn2 = BatchNormalization()\n",
    "        self.conv3 = GraphSageConv(out_channels)\n",
    "        self.bn3 = BatchNormalization()\n",
    "        \n",
    "        if add_linear:\n",
    "            self.lin = Dense(out_channels)\n",
    "        else:\n",
    "            self.lin = None\n",
    "    \n",
    "    def call(self, inputs):\n",
    "        x, adj = inputs\n",
    "        \n",
    "        x1 = self.bn1(relu(self.conv1(inputs)))\n",
    "        x2 = self.bn2(relu(self.conv2([x1, adj])))\n",
    "        x3 = self.bn3(relu(self.conv3([x2, adj])))\n",
    "\n",
    "        x = tf.concat([x1, x2, x3], axis=-1)\n",
    "\n",
    "        if self.lin is not None:\n",
    "            x = relu(self.lin(x))\n",
    "\n",
    "        return x"
   ]
  },
  {
   "cell_type": "code",
   "execution_count": 25,
   "metadata": {},
   "outputs": [],
   "source": [
    "def dense_diff_pool(x, adj, s):\n",
    "    # https://pytorch-geometric.readthedocs.io/en/latest/_modules/torch_geometric/nn/dense/diff_pool.html#dense_diff_pool\n",
    "    # add batch dimension if necessary\n",
    "    with suppress(TypeError):\n",
    "        adj = tf.sparse.to_dense(adj)\n",
    "        s = tf.sparse.to_dense(adj)\n",
    "\n",
    "    #x = tf.expand_dims(x, axis=0) if len(x.shape) == 2 else x\n",
    "    #adj = tf.expand_dims(adj, axis=0) if len(adj.shape) == 2 else adj\n",
    "    #s = tf.expand_dims(s, axis=0) if len(s.shape) == 2 else s\n",
    "\n",
    "    #batch_size, num_nodes, _ = x.shape  # used when maks is implemented\n",
    "\n",
    "    # s = tf.nn.softmax(s, axis=-1)\n",
    "    s = tf.nn.softmax(s, axis=-1)    # check if this works as tf.nn.softmax(x, axis=-1)\n",
    "    st = tf.transpose(s, (1, 0))\n",
    "\n",
    "    out = tf.matmul(st, x)\n",
    "    out_adj = tf.matmul(tf.matmul(st, adj), s)\n",
    "\n",
    "    link_loss = adj - tf.matmul(s, st)\n",
    "    link_loss = tf.norm(link_loss, ord=2)\n",
    "    link_loss = link_loss / tf.size(adj, out_type=tf.dtypes.float32)\n",
    "\n",
    "    ent_loss = tf.reduce_mean(tf.reduce_sum(-s * tf.math.log(s + 1e-15), axis=-1))\n",
    "\n",
    "    return out, tf.sparse.from_dense(out_adj), link_loss, ent_loss"
   ]
  },
  {
   "cell_type": "code",
   "execution_count": 26,
   "metadata": {},
   "outputs": [],
   "source": [
    "class Net(tf.keras.Model):\n",
    "    def __init__(self, num_classes=6, max_nodes=200):\n",
    "        super(Net, self).__init__()\n",
    "\n",
    "        num_nodes = np.ceil(0.5 * max_nodes).astype(int)\n",
    "        self.gnn1_pool = GNN(64, num_nodes)\n",
    "        self.gnn1_embed = GNN(64, 64, add_linear=False)\n",
    "\n",
    "        num_nodes = np.ceil(0.5 * num_nodes).astype(int)\n",
    "        self.gnn2_pool = GNN(64, num_nodes)\n",
    "        self.gnn2_embed = GNN(64, 64, add_linear=False)\n",
    "\n",
    "        self.gnn3_embed = GNN(64, 64, add_linear=False)\n",
    "\n",
    "        self.lin1 = Dense(64)\n",
    "        self.lin2 = Dense(num_classes)\n",
    "    \n",
    "    def call(self, inputs):\n",
    "        x, adj = inputs\n",
    "        s = self.gnn1_pool(inputs)\n",
    "        x = self.gnn1_embed([x, adj])\n",
    "\n",
    "        x, adj, l1, e1 = dense_diff_pool(x, adj, s)\n",
    "\n",
    "        s = self.gnn2_pool([x, adj])\n",
    "        x = self.gnn2_embed([x, adj])\n",
    "\n",
    "        x, adj, l2, e2 = dense_diff_pool(x, adj, s)\n",
    "\n",
    "        x = self.gnn3_embed([x, adj])\n",
    "\n",
    "        x = tf.reduce_mean(x, axis=1)\n",
    "\n",
    "        if len(x.shape) == 1:\n",
    "            x = tf.expand_dims(x, axis=0)\n",
    "\n",
    "        x = relu(self.lin1(x))\n",
    "        x = self.lin2(x)\n",
    "\n",
    "        return tf.nn.log_softmax(x, axis=-1), l1 + l2, e1 + e2"
   ]
  },
  {
   "cell_type": "code",
   "execution_count": 27,
   "metadata": {},
   "outputs": [
    {
     "data": {
      "text/plain": [
       "<tf.Tensor: shape=(1, 6), dtype=float32, numpy=\n",
       "array([[-1.7318863, -1.7922283, -1.8050377, -1.7345929, -1.8862858,\n",
       "        -1.8085786]], dtype=float32)>"
      ]
     },
     "execution_count": 27,
     "metadata": {},
     "output_type": "execute_result"
    }
   ],
   "source": [
    "num_nodes = 200\n",
    "num_features = 10\n",
    "\n",
    "x = tf.Variable(tf.random.normal((num_nodes, num_features)))\n",
    "adj = tf.sparse.from_dense(tf.round(tf.random.uniform((num_nodes, num_nodes))))\n",
    "net = Net()\n",
    "net([x, adj])[0]"
   ]
  },
  {
   "cell_type": "code",
   "execution_count": 30,
   "metadata": {},
   "outputs": [],
   "source": []
  },
  {
   "cell_type": "code",
   "execution_count": 42,
   "metadata": {},
   "outputs": [],
   "source": []
  },
  {
   "cell_type": "code",
   "execution_count": null,
   "metadata": {},
   "outputs": [],
   "source": []
  },
  {
   "cell_type": "code",
   "execution_count": 75,
   "metadata": {},
   "outputs": [],
   "source": [
    "root = 40095521\n"
   ]
  },
  {
   "cell_type": "code",
   "execution_count": 80,
   "metadata": {},
   "outputs": [
    {
     "data": {
      "image/png": "[encoded data removed]",
      "text/plain": [
       "<Figure size 432x288 with 1 Axes>"
      ]
     },
     "metadata": {},
     "output_type": "display_data"
    }
   ],
   "source": [
    "G = nx.from_edgelist(load_edge_list(\"./dataset/WICO/5G_Conspiracy_Graphs/1/edges.txt\"), create_using=nx.DiGraph)\n",
    "G.add_edges_from(new_edges)\n",
    "#nx.draw_spring(G, node_size=50, node_color=colors)"
   ]
  },
  {
   "cell_type": "code",
   "execution_count": 60,
   "metadata": {},
   "outputs": [
    {
     "data": {
      "text/html": [
       "<div>\n",
       "<style scoped>\n",
       "    .dataframe tbody tr th:only-of-type {\n",
       "        vertical-align: middle;\n",
       "    }\n",
       "\n",
       "    .dataframe tbody tr th {\n",
       "        vertical-align: top;\n",
       "    }\n",
       "\n",
       "    .dataframe thead th {\n",
       "        text-align: right;\n",
       "    }\n",
       "</style>\n",
       "<table border=\"1\" class=\"dataframe\">\n",
       "  <thead>\n",
       "    <tr style=\"text-align: right;\">\n",
       "      <th></th>\n",
       "      <th>id</th>\n",
       "      <th>time</th>\n",
       "      <th>friends</th>\n",
       "      <th>followers</th>\n",
       "    </tr>\n",
       "  </thead>\n",
       "  <tbody>\n",
       "    <tr>\n",
       "      <th>39</th>\n",
       "      <td>40095521</td>\n",
       "      <td>0</td>\n",
       "      <td>12</td>\n",
       "      <td>10</td>\n",
       "    </tr>\n",
       "    <tr>\n",
       "      <th>28</th>\n",
       "      <td>233878867</td>\n",
       "      <td>302686</td>\n",
       "      <td>7</td>\n",
       "      <td>2</td>\n",
       "    </tr>\n",
       "    <tr>\n",
       "      <th>57</th>\n",
       "      <td>133999060</td>\n",
       "      <td>311964</td>\n",
       "      <td>10</td>\n",
       "      <td>12</td>\n",
       "    </tr>\n",
       "    <tr>\n",
       "      <th>30</th>\n",
       "      <td>123158829</td>\n",
       "      <td>312784</td>\n",
       "      <td>13</td>\n",
       "      <td>14</td>\n",
       "    </tr>\n",
       "    <tr>\n",
       "      <th>10</th>\n",
       "      <td>105141051</td>\n",
       "      <td>313648</td>\n",
       "      <td>11</td>\n",
       "      <td>11</td>\n",
       "    </tr>\n",
       "    <tr>\n",
       "      <th>...</th>\n",
       "      <td>...</td>\n",
       "      <td>...</td>\n",
       "      <td>...</td>\n",
       "      <td>...</td>\n",
       "    </tr>\n",
       "    <tr>\n",
       "      <th>21</th>\n",
       "      <td>299260908</td>\n",
       "      <td>518563</td>\n",
       "      <td>9</td>\n",
       "      <td>7</td>\n",
       "    </tr>\n",
       "    <tr>\n",
       "      <th>65</th>\n",
       "      <td>164877190</td>\n",
       "      <td>544305</td>\n",
       "      <td>11</td>\n",
       "      <td>10</td>\n",
       "    </tr>\n",
       "    <tr>\n",
       "      <th>54</th>\n",
       "      <td>104852114</td>\n",
       "      <td>547208</td>\n",
       "      <td>9</td>\n",
       "      <td>9</td>\n",
       "    </tr>\n",
       "    <tr>\n",
       "      <th>88</th>\n",
       "      <td>128913810</td>\n",
       "      <td>554961</td>\n",
       "      <td>5</td>\n",
       "      <td>9</td>\n",
       "    </tr>\n",
       "    <tr>\n",
       "      <th>53</th>\n",
       "      <td>128021893</td>\n",
       "      <td>609979</td>\n",
       "      <td>9</td>\n",
       "      <td>12</td>\n",
       "    </tr>\n",
       "  </tbody>\n",
       "</table>\n",
       "<p>89 rows × 4 columns</p>\n",
       "</div>"
      ],
      "text/plain": [
       "           id    time  friends  followers\n",
       "39   40095521       0       12         10\n",
       "28  233878867  302686        7          2\n",
       "57  133999060  311964       10         12\n",
       "30  123158829  312784       13         14\n",
       "10  105141051  313648       11         11\n",
       "..        ...     ...      ...        ...\n",
       "21  299260908  518563        9          7\n",
       "65  164877190  544305       11         10\n",
       "54  104852114  547208        9          9\n",
       "88  128913810  554961        5          9\n",
       "53  128021893  609979        9         12\n",
       "\n",
       "[89 rows x 4 columns]"
      ]
     },
     "execution_count": 60,
     "metadata": {},
     "output_type": "execute_result"
    }
   ],
   "source": [
    "pd.read_csv(\"./dataset/WICO/5G_Conspiracy_Graphs/1/nodes.csv\").sort_values(\"time\")"
   ]
  },
  {
   "cell_type": "code",
   "execution_count": null,
   "metadata": {},
   "outputs": [],
   "source": []
  }
 ],
 "metadata": {
  "interpreter": {
   "hash": "4a0cdf5044e235b24d1fc042fb09c724f9ff16da5a82a5cb2270a9975034c9c0"
  },
  "kernelspec": {
   "display_name": "Python 3.9.2 64-bit (system)",
   "language": "python",
   "name": "python3"
  },
  "language_info": {
   "codemirror_mode": {
    "name": "ipython",
    "version": 3
   },
   "file_extension": ".py",
   "mimetype": "text/x-python",
   "name": "python",
   "nbconvert_exporter": "python",
   "pygments_lexer": "ipython3",
   "version": "3.9.2"
  },
  "orig_nbformat": 4
 },
 "nbformat": 4,
 "nbformat_minor": 2
}
